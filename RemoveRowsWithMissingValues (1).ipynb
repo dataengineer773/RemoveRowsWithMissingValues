{
 "cells": [
  {
   "cell_type": "code",
   "execution_count": 1,
   "id": "c8181302-894a-4d50-8aca-8265187284a5",
   "metadata": {},
   "outputs": [],
   "source": [
    "#removing rows that contain missing values \n",
    "from numpy import nan\n",
    "from pandas import read_csv"
   ]
  },
  {
   "cell_type": "code",
   "execution_count": 2,
   "id": "b41cf464-d9ad-4457-8330-26c56c981e9b",
   "metadata": {},
   "outputs": [],
   "source": [
    "# load the dataset\n",
    "dataset = read_csv('abalone.csv', header=None)"
   ]
  },
  {
   "cell_type": "code",
   "execution_count": 3,
   "id": "34123acc-0086-43b1-b97d-31396163d9b5",
   "metadata": {},
   "outputs": [
    {
     "name": "stdout",
     "output_type": "stream",
     "text": [
      "(4177, 9)\n"
     ]
    }
   ],
   "source": [
    "# summarize the shape of the raw data\n",
    "print(dataset.shape)"
   ]
  },
  {
   "cell_type": "code",
   "execution_count": 4,
   "id": "000f44ae-4eca-4bd9-8e6f-bb2f819fb92b",
   "metadata": {},
   "outputs": [],
   "source": [
    "# replace '0' values with nan\n",
    "dataset[[1,2,3,4,5]] = dataset[[1,2,3,4,5]].replace(0, nan)"
   ]
  },
  {
   "cell_type": "code",
   "execution_count": 5,
   "id": "f647f1c3-549f-4f72-9be3-ca3bbc43c1c0",
   "metadata": {},
   "outputs": [],
   "source": [
    "# drop rows with missing values\n",
    "dataset.dropna(inplace=True)"
   ]
  },
  {
   "cell_type": "code",
   "execution_count": 6,
   "id": "9692585e-1027-4e7b-a14d-fafb59076379",
   "metadata": {},
   "outputs": [
    {
     "name": "stdout",
     "output_type": "stream",
     "text": [
      "(4175, 9)\n"
     ]
    }
   ],
   "source": [
    "# summarize the shape of the data with missing rows removed\n",
    "print(dataset.shape)"
   ]
  },
  {
   "cell_type": "code",
   "execution_count": 7,
   "id": "599e963d-6b8b-4d11-8696-5b6716d29105",
   "metadata": {},
   "outputs": [
    {
     "name": "stdout",
     "output_type": "stream",
     "text": [
      "    0      1      2      3       4       5       6      7   8\n",
      "0   M  0.455  0.365  0.095  0.5140  0.2245  0.1010  0.150  15\n",
      "1   M  0.350  0.265  0.090  0.2255  0.0995  0.0485  0.070   7\n",
      "2   F  0.530  0.420  0.135  0.6770  0.2565  0.1415  0.210   9\n",
      "3   M  0.440  0.365  0.125  0.5160  0.2155  0.1140  0.155  10\n",
      "4   I  0.330  0.255  0.080  0.2050  0.0895  0.0395  0.055   7\n",
      "5   I  0.425  0.300  0.095  0.3515  0.1410  0.0775  0.120   8\n",
      "6   F  0.530  0.415  0.150  0.7775  0.2370  0.1415  0.330  20\n",
      "7   F  0.545  0.425  0.125  0.7680  0.2940  0.1495  0.260  16\n",
      "8   M  0.475  0.370  0.125  0.5095  0.2165  0.1125  0.165   9\n",
      "9   F  0.550  0.440  0.150  0.8945  0.3145  0.1510  0.320  19\n",
      "10  F  0.525  0.380  0.140  0.6065  0.1940  0.1475  0.210  14\n",
      "11  M  0.430  0.350  0.110  0.4060  0.1675  0.0810  0.135  10\n",
      "12  M  0.490  0.380  0.135  0.5415  0.2175  0.0950  0.190  11\n",
      "13  F  0.535  0.405  0.145  0.6845  0.2725  0.1710  0.205  10\n",
      "14  F  0.470  0.355  0.100  0.4755  0.1675  0.0805  0.185  10\n",
      "15  M  0.500  0.400  0.130  0.6645  0.2580  0.1330  0.240  12\n",
      "16  I  0.355  0.280  0.085  0.2905  0.0950  0.0395  0.115   7\n",
      "17  F  0.440  0.340  0.100  0.4510  0.1880  0.0870  0.130  10\n",
      "18  M  0.365  0.295  0.080  0.2555  0.0970  0.0430  0.100   7\n",
      "19  M  0.450  0.320  0.100  0.3810  0.1705  0.0750  0.115   9\n"
     ]
    }
   ],
   "source": [
    "# summarize the print first 20 rows of data\n",
    "print(dataset.head(20))"
   ]
  },
  {
   "cell_type": "code",
   "execution_count": null,
   "id": "a342c56a-9247-442d-9afa-e92185a22446",
   "metadata": {},
   "outputs": [],
   "source": []
  }
 ],
 "metadata": {
  "kernelspec": {
   "display_name": "Python 3 (ipykernel)",
   "language": "python",
   "name": "python3"
  },
  "language_info": {
   "codemirror_mode": {
    "name": "ipython",
    "version": 3
   },
   "file_extension": ".py",
   "mimetype": "text/x-python",
   "name": "python",
   "nbconvert_exporter": "python",
   "pygments_lexer": "ipython3",
   "version": "3.10.12"
  }
 },
 "nbformat": 4,
 "nbformat_minor": 5
}
